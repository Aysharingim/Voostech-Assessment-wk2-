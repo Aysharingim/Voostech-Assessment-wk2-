{
  "nbformat": 4,
  "nbformat_minor": 0,
  "metadata": {
    "colab": {
      "provenance": []
    },
    "kernelspec": {
      "name": "python3",
      "display_name": "Python 3"
    },
    "language_info": {
      "name": "python"
    }
  },
  "cells": [
    {
      "cell_type": "markdown",
      "source": [
        "Importing the library"
      ],
      "metadata": {
        "id": "P1eQrjb1MtVi"
      }
    },
    {
      "cell_type": "code",
      "source": [
        "import pandas as pd\n"
      ],
      "metadata": {
        "id": "5xB2bEUsNNOC"
      },
      "execution_count": 32,
      "outputs": []
    },
    {
      "cell_type": "markdown",
      "source": [
        "#importing dataset"
      ],
      "metadata": {
        "id": "dIUewcMSQm-S"
      }
    },
    {
      "cell_type": "code",
      "source": [
        "df = pd.read_excel(\"/content/Sales data .xlsx\")"
      ],
      "metadata": {
        "id": "nagCHMK5RI2W"
      },
      "execution_count": 34,
      "outputs": []
    },
    {
      "cell_type": "markdown",
      "source": [
        "##printing dataset"
      ],
      "metadata": {
        "id": "Udsx0PUtSUz3"
      }
    },
    {
      "cell_type": "code",
      "source": [
        "#viewing the dataset\n",
        "print(df)"
      ],
      "metadata": {
        "colab": {
          "base_uri": "https://localhost:8080/"
        },
        "id": "wqX15I92SZKr",
        "outputId": "8258baad-b508-4b20-a86f-0f799e573a97"
      },
      "execution_count": 37,
      "outputs": [
        {
          "output_type": "stream",
          "name": "stdout",
          "text": [
            "         Products  Sales  Profit(%)\n",
            "0        Cupcakes   1500        100\n",
            "1         Meatpie    200         40\n",
            "2          Samosa    500         40\n",
            "3    Spring rolls    100         50\n",
            "4          Donuts    450        100\n",
            "5      Cake slice   1000         70\n",
            "6           Kebab   1000         50\n",
            "7       Milkshake    950         80\n",
            "8          Ginger    400        100\n",
            "9          Mojito    550         70\n",
            "10       Cocomilk   1500         50\n",
            "11           Zobo   1000        100\n",
            "12     Onion ring    650         50\n",
            "13  Treche leches   1000         60\n",
            "14        Ganache   1000         60\n",
            "15          Fudge    450         50\n",
            "16      Kunun aya    750        100\n"
          ]
        }
      ]
    },
    {
      "cell_type": "code",
      "source": [
        "#display the first few rows of the dataset\n",
        "print(df.head())"
      ],
      "metadata": {
        "colab": {
          "base_uri": "https://localhost:8080/"
        },
        "id": "nCdV-G2BQFXz",
        "outputId": "4515baab-6a8b-40f7-f127-d3c1e2d9e133"
      },
      "execution_count": 38,
      "outputs": [
        {
          "output_type": "stream",
          "name": "stdout",
          "text": [
            "       Products  Sales  Profit(%)\n",
            "0      Cupcakes   1500        100\n",
            "1       Meatpie    200         40\n",
            "2        Samosa    500         40\n",
            "3  Spring rolls    100         50\n",
            "4        Donuts    450        100\n"
          ]
        }
      ]
    },
    {
      "cell_type": "markdown",
      "source": [],
      "metadata": {
        "id": "f9-FRX5ZSLtA"
      }
    },
    {
      "cell_type": "code",
      "source": [
        "#check the missing values\n",
        "print(\"missing values:\\n\",\n",
        "df.isnull().sum())"
      ],
      "metadata": {
        "colab": {
          "base_uri": "https://localhost:8080/"
        },
        "id": "UlpyGc-zQj3t",
        "outputId": "5abc465b-3d7d-46a4-dbda-4e02f34bf07a"
      },
      "execution_count": 39,
      "outputs": [
        {
          "output_type": "stream",
          "name": "stdout",
          "text": [
            "missing values:\n",
            " Products     0\n",
            "Sales        0\n",
            "Profit(%)    0\n",
            "dtype: int64\n"
          ]
        }
      ]
    },
    {
      "cell_type": "code",
      "source": [
        "#check for duplicates\n",
        "print(\"duplicate rows:\\n\",\n",
        "df.duplicated().sum())"
      ],
      "metadata": {
        "colab": {
          "base_uri": "https://localhost:8080/"
        },
        "id": "vXZuxoCtRQz0",
        "outputId": "241753ed-76b3-4492-e197-aeb89598153c"
      },
      "execution_count": 40,
      "outputs": [
        {
          "output_type": "stream",
          "name": "stdout",
          "text": [
            "duplicate rows:\n",
            " 0\n"
          ]
        }
      ]
    },
    {
      "cell_type": "code",
      "source": [
        "#display basic statistics\n",
        "print(\"basic statistics:\\n\",df.describe())"
      ],
      "metadata": {
        "colab": {
          "base_uri": "https://localhost:8080/"
        },
        "id": "zasRS10hSbRY",
        "outputId": "effaec50-25eb-4515-d045-47090f4c6063"
      },
      "execution_count": null,
      "outputs": [
        {
          "output_type": "stream",
          "name": "stdout",
          "text": [
            "basic statistics:\n",
            "              Sales   Profit(%)\n",
            "count    17.000000   17.000000\n",
            "mean    764.705882   68.823529\n",
            "std     404.183090   23.152309\n",
            "min     100.000000   40.000000\n",
            "25%     450.000000   50.000000\n",
            "50%     750.000000   60.000000\n",
            "75%    1000.000000  100.000000\n",
            "max    1500.000000  100.000000\n"
          ]
        }
      ]
    },
    {
      "cell_type": "code",
      "source": [
        "#check for outliers\n",
        "Sales_outliers = df[df['Sales'] >\n",
        "                    df['Sales'].mean() + 2 *\n",
        "                    df['Sales'].std()]\n",
        "\n",
        "profit_outliers = df[df['Profit(%)'] >\n",
        "                     df['Profit(%)'].mean() + 2 *\n",
        "                     df['Profit(%)'].std()]\n",
        "\n",
        "print(\"Profit outliers:\\n\", profit_outliers)"
      ],
      "metadata": {
        "colab": {
          "base_uri": "https://localhost:8080/"
        },
        "id": "jh7FHqHg7JwL",
        "outputId": "43c1d118-15d2-41b5-a7bf-c8be2c4272bc"
      },
      "execution_count": 43,
      "outputs": [
        {
          "output_type": "stream",
          "name": "stdout",
          "text": [
            "Profit outliers:\n",
            " Empty DataFrame\n",
            "Columns: [Products, Sales, Profit(%)]\n",
            "Index: []\n"
          ]
        }
      ]
    },
    {
      "cell_type": "code",
      "source": [],
      "metadata": {
        "id": "diRKYTdw8AmQ"
      },
      "execution_count": null,
      "outputs": []
    }
  ]
}