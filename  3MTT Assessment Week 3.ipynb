{
  "cells": [
    {
      "cell_type": "code",
      "execution_count": null,
      "metadata": {
        "id": "-yxr-Trj4fKy"
      },
      "outputs": [],
      "source": [
        "#identifying the variables\n",
        "cupcakes = 1\n",
        "samosa = 2\n",
        "cookies = 3"
      ]
    },
    {
      "cell_type": "code",
      "source": [],
      "metadata": {
        "id": "XQGxgNbTfn82"
      },
      "execution_count": null,
      "outputs": []
    },
    {
      "cell_type": "code",
      "source": [
        "#create a list using variables\n",
        "my_list = [cupcakes, samosa, cookies]"
      ],
      "metadata": {
        "id": "5OcdsOPg7wWv"
      },
      "execution_count": null,
      "outputs": []
    },
    {
      "cell_type": "markdown",
      "source": [],
      "metadata": {
        "id": "hgxN9_MUbXxV"
      }
    },
    {
      "cell_type": "code",
      "source": [
        "#print the list\n",
        "print(my_list)"
      ],
      "metadata": {
        "colab": {
          "base_uri": "https://localhost:8080/"
        },
        "id": "jDGuqw3YbbAN",
        "outputId": "aebf3827-96a4-45cc-9006-c469c5ed9b5b"
      },
      "execution_count": null,
      "outputs": [
        {
          "output_type": "stream",
          "name": "stdout",
          "text": [
            "[1, 2, 3]\n"
          ]
        }
      ]
    },
    {
      "cell_type": "code",
      "source": [
        "from google.colab import drive\n",
        "drive.mount('/content/drive')"
      ],
      "metadata": {
        "id": "uy6FvL5yiYAj"
      },
      "execution_count": null,
      "outputs": []
    },
    {
      "cell_type": "code",
      "source": [
        "#the original list\n",
        "my_list = [cupcakes, samosa, cookies]"
      ],
      "metadata": {
        "id": "BsmO5Cbwbk71"
      },
      "execution_count": null,
      "outputs": []
    },
    {
      "cell_type": "code",
      "source": [
        "#copy the original list\n",
        "copied_list = my_list.copy()"
      ],
      "metadata": {
        "id": "hn0J8JF4b3hk"
      },
      "execution_count": null,
      "outputs": []
    },
    {
      "cell_type": "code",
      "source": [
        "#append to the copied list\n",
        "copied_list.append(4)"
      ],
      "metadata": {
        "id": "cR30EKdncJna"
      },
      "execution_count": null,
      "outputs": []
    },
    {
      "cell_type": "code",
      "source": [
        "#print both lists\n",
        "print(\"original list:\",my_list)\n",
        "print(\"copied_list:\", copied_list)"
      ],
      "metadata": {
        "colab": {
          "base_uri": "https://localhost:8080/"
        },
        "id": "AAbIGKAjcb0t",
        "outputId": "7b674729-de85-477f-aaa8-12ab5adeb24e"
      },
      "execution_count": null,
      "outputs": [
        {
          "output_type": "stream",
          "name": "stdout",
          "text": [
            "original list: [1, 2, 3]\n",
            "copied_list: [1, 2, 3, 4]\n"
          ]
        }
      ]
    },
    {
      "cell_type": "code",
      "source": [
        "#original list\n",
        "my_list = [cupcakes,samosa,cookies]"
      ],
      "metadata": {
        "id": "2a6Vzy7qdX39"
      },
      "execution_count": null,
      "outputs": []
    },
    {
      "cell_type": "code",
      "source": [
        "#loop through the list\n",
        "for item in my_list:\n",
        "  print(item)"
      ],
      "metadata": {
        "colab": {
          "base_uri": "https://localhost:8080/"
        },
        "id": "wvYk7up6dmeh",
        "outputId": "2bee5eaa-78e8-4744-f3c3-c82e3030a0c6"
      },
      "execution_count": null,
      "outputs": [
        {
          "output_type": "stream",
          "name": "stdout",
          "text": [
            "1\n",
            "2\n",
            "3\n"
          ]
        }
      ]
    }
  ],
  "metadata": {
    "colab": {
      "provenance": []
    },
    "kernelspec": {
      "display_name": "Python 3",
      "name": "python3"
    },
    "language_info": {
      "name": "python"
    }
  },
  "nbformat": 4,
  "nbformat_minor": 0
}