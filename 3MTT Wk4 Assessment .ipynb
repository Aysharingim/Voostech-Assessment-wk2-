{
  "nbformat": 4,
  "nbformat_minor": 0,
  "metadata": {
    "colab": {
      "provenance": []
    },
    "kernelspec": {
      "name": "python3",
      "display_name": "Python 3"
    },
    "language_info": {
      "name": "python"
    }
  },
  "cells": [
    {
      "cell_type": "code",
      "execution_count": null,
      "metadata": {
        "id": "rZ9m-n7jB9qI"
      },
      "outputs": [],
      "source": []
    },
    {
      "cell_type": "markdown",
      "source": [
        "##Bakery items"
      ],
      "metadata": {
        "id": "GWGdThsPE2R4"
      }
    },
    {
      "cell_type": "code",
      "source": [
        "#class bakery items:\n",
        "def __init__(self, name,price,quantity):\n",
        "  self.name = name\n",
        "  self.price = price\n",
        "  self.quantity = quantity\n",
        "  #example\n",
        " # cupcake.name = (vanilla cupcake)\n",
        " # cupcake.price = 150\n",
        " # Cupcake.quantity = 100\n",
        " # muffins.name = (strawberry muffins)\n",
        " # muffins.price = 100\n",
        " # muffins.quantity = 25\n",
        "\n",
        "  #accessing attributes\n",
        "  print(cupcake.name)\n",
        "  print(muffins.name)\n",
        "\n",
        "  #calculate total cost of items\n",
        "  total_cost_cupcakes = (cupcake.price) = 150\n",
        "  total_cost_muffins = (muffins.price) = 100\n",
        "  print(total_cost_cupcakes)\n"
      ],
      "metadata": {
        "id": "pjGEuaQdE-tr"
      },
      "execution_count": 17,
      "outputs": []
    },
    {
      "cell_type": "code",
      "source": [
        "\n"
      ],
      "metadata": {
        "id": "UEEG8p-UCBh4"
      },
      "execution_count": null,
      "outputs": []
    }
  ]
}